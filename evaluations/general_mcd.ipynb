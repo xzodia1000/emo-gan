{
 "cells": [
  {
   "cell_type": "code",
   "execution_count": 1,
   "metadata": {
    "metadata": {}
   },
   "outputs": [],
   "source": [
    "import torch\n",
    "import numpy as np\n",
    "import librosa\n",
    "from sklearn.metrics.pairwise import euclidean_distances\n",
    "from torch.utils.data import DataLoader\n",
    "from tqdm import tqdm\n",
    "import torch.nn.functional as F\n",
    "\n",
    "from hparams import create_hparams\n",
    "from test_data_class import TestTextMelCollate, TestTextMelLoader\n",
    "from model_utils import load_generator, load_model_checkpoint, parse_test_batch_generator"
   ]
  },
  {
   "cell_type": "code",
   "execution_count": 2,
   "metadata": {
    "metadata": {}
   },
   "outputs": [],
   "source": [
    "def calculate_mcd(generated_mels, ground_truth_mels, mfcc_dim=25, exclude_zeroth=True):\n",
    "    mcd_scores = []\n",
    "    for mel1, mel2 in tqdm(\n",
    "        zip(generated_mels, ground_truth_mels), total=len(generated_mels)\n",
    "    ):\n",
    "        # Compute the MFCCs\n",
    "        mfcc1 = librosa.feature.mfcc(\n",
    "            S=librosa.power_to_db(mel1),\n",
    "            n_mfcc=mfcc_dim,\n",
    "            n_fft=2048,\n",
    "            hop_length=200,\n",
    "            win_length=800,\n",
    "            window=\"hann\",\n",
    "            center=True,\n",
    "            pad_mode=\"reflect\",\n",
    "        )\n",
    "        mfcc2 = librosa.feature.mfcc(\n",
    "            S=librosa.power_to_db(mel2),\n",
    "            n_mfcc=mfcc_dim,\n",
    "            n_fft=2048,\n",
    "            hop_length=200,\n",
    "            win_length=800,\n",
    "            window=\"hann\",\n",
    "            center=True,\n",
    "            pad_mode=\"reflect\",\n",
    "        )\n",
    "\n",
    "        if exclude_zeroth:\n",
    "            mfcc1 = mfcc1[4:]\n",
    "            mfcc2 = mfcc2[4:]\n",
    "\n",
    "        mcd_value = euclidean_distances(mfcc1, mfcc2)\n",
    "        mcd_scores.append(mcd_value)\n",
    "\n",
    "    return np.mean(mcd_scores) / 100"
   ]
  },
  {
   "cell_type": "code",
   "execution_count": 3,
   "metadata": {
    "metadata": {}
   },
   "outputs": [],
   "source": [
    "def pad_mel_list(gen_list, truth_list):\n",
    "    mel_list = gen_list + truth_list\n",
    "    all_mels = [mel for batch in mel_list for mel in batch]\n",
    "    gen_mels = [mel for batch in gen_list for mel in batch]\n",
    "    truth_mels = [mel for batch in truth_list for mel in batch]\n",
    "\n",
    "    max_length = max(mel.size(1) for mel in all_mels)\n",
    "    padded_gen = [\n",
    "        F.pad(mel, (0, max_length - mel.size(1)), \"constant\", 0) for mel in gen_mels\n",
    "    ]\n",
    "    padded_truth = [\n",
    "        F.pad(mel, (0, max_length - mel.size(1)), \"constant\", 0) for mel in truth_mels\n",
    "    ]\n",
    "\n",
    "    return padded_gen, padded_truth"
   ]
  },
  {
   "cell_type": "code",
   "execution_count": 4,
   "metadata": {
    "metadata": {}
   },
   "outputs": [
    {
     "name": "stdout",
     "output_type": "stream",
     "text": [
      "Using device: cuda\n"
     ]
    }
   ],
   "source": [
    "hparams = create_hparams()\n",
    "test_dataset = TestTextMelLoader(\"./data/ESD/test.csv\", hparams)\n",
    "collate_fn = TestTextMelCollate(hparams.n_frames_per_step)\n",
    "\n",
    "test_loader = DataLoader(\n",
    "    test_dataset,\n",
    "    batch_size=1,\n",
    "    collate_fn=collate_fn,\n",
    "    shuffle=False,\n",
    ")\n",
    "\n",
    "device = torch.device(\"cuda\" if torch.cuda.is_available() else \"cpu\")\n",
    "print(\"Using device:\", device)"
   ]
  },
  {
   "cell_type": "code",
   "execution_count": 5,
   "metadata": {
    "metadata": {}
   },
   "outputs": [],
   "source": [
    "model = load_generator(hparams, device)\n",
    "model_file = \"/home/xzodia/dev/emo-gan/outputs/train_gan/train_6/generator/checkpoint_epoch_100.pth.tar\"\n",
    "model = load_model_checkpoint(model_file, model)"
   ]
  },
  {
   "cell_type": "code",
   "execution_count": 6,
   "metadata": {
    "metadata": {}
   },
   "outputs": [
    {
     "name": "stderr",
     "output_type": "stream",
     "text": [
      " 50%|█████     | 80/160 [00:12<00:21,  3.65it/s]"
     ]
    },
    {
     "name": "stdout",
     "output_type": "stream",
     "text": [
      "Warning! Reached max decoder steps\n"
     ]
    },
    {
     "name": "stderr",
     "output_type": "stream",
     "text": [
      "100%|██████████| 160/160 [00:22<00:00,  7.19it/s]\n"
     ]
    }
   ],
   "source": [
    "ground_truth_mels = []\n",
    "generated_mels = []\n",
    "\n",
    "model.eval()\n",
    "with torch.no_grad():\n",
    "    for batch in tqdm(test_loader):\n",
    "        x, y, z = parse_test_batch_generator(batch)\n",
    "\n",
    "        (\n",
    "            text_padded,\n",
    "            _,\n",
    "            emotion_vectors,\n",
    "            _,\n",
    "            _,\n",
    "            \n",
    "        ) = x\n",
    "\n",
    "        real_mel, _, _ = y\n",
    "\n",
    "        mel_outputs, mel_outputs_postnet, gate_outputs, alignments = model.inference(\n",
    "            text_padded, emotion_vectors\n",
    "        )\n",
    "\n",
    "        ground_truth_mels.append(real_mel)\n",
    "        generated_mels.append(mel_outputs_postnet)"
   ]
  },
  {
   "cell_type": "code",
   "execution_count": 7,
   "metadata": {
    "metadata": {}
   },
   "outputs": [],
   "source": [
    "generated_mels_padded, ground_truth_mels_padded = pad_mel_list(\n",
    "    generated_mels, ground_truth_mels\n",
    ")"
   ]
  },
  {
   "cell_type": "code",
   "execution_count": 8,
   "metadata": {
    "metadata": {}
   },
   "outputs": [],
   "source": [
    "# convert to numpy\n",
    "ground_truth_mels_np = [mel.cpu().numpy() for mel in ground_truth_mels_padded]\n",
    "generated_mels_np = [mel.cpu().numpy() for mel in generated_mels_padded]"
   ]
  },
  {
   "cell_type": "code",
   "execution_count": 9,
   "metadata": {
    "metadata": {}
   },
   "outputs": [
    {
     "name": "stderr",
     "output_type": "stream",
     "text": [
      "100%|██████████| 160/160 [00:00<00:00, 297.36it/s]"
     ]
    },
    {
     "name": "stdout",
     "output_type": "stream",
     "text": [
      "MCD: 6.199351196289062\n"
     ]
    },
    {
     "name": "stderr",
     "output_type": "stream",
     "text": [
      "\n"
     ]
    }
   ],
   "source": [
    "mcd = calculate_mcd(generated_mels_np, ground_truth_mels_np)\n",
    "print(f\"MCD: {mcd}\")"
   ]
  }
 ],
 "metadata": {
  "kernelspec": {
   "display_name": "emo-gan",
   "language": "python",
   "name": "python3"
  },
  "language_info": {
   "codemirror_mode": {
    "name": "ipython",
    "version": 3
   },
   "file_extension": ".py",
   "mimetype": "text/x-python",
   "name": "python",
   "nbconvert_exporter": "python",
   "pygments_lexer": "ipython3",
   "version": "3.11.7"
  }
 },
 "nbformat": 4,
 "nbformat_minor": 2
}
