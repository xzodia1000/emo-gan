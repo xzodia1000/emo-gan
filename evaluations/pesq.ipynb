{
 "cells": [
  {
   "cell_type": "code",
   "execution_count": 1,
   "metadata": {
    "metadata": {}
   },
   "outputs": [],
   "source": [
    "import torch\n",
    "import librosa\n",
    "import numpy as np\n",
    "from pesq import pesq\n",
    "from tqdm import tqdm\n",
    "from torch.utils.data import DataLoader\n",
    "\n",
    "from inference_utils import recover_wav\n",
    "from hparams import create_hparams\n",
    "from test_data_class import TestTextMelCollate, TestTextMelLoader\n",
    "from model_utils import load_generator, load_model_checkpoint, parse_test_batch_generator"
   ]
  },
  {
   "cell_type": "code",
   "execution_count": 2,
   "metadata": {
    "metadata": {}
   },
   "outputs": [],
   "source": [
    "def evaluate_audio(audio_ref, audio_deg, sr=16000):\n",
    "    \"\"\"Evaluate two sets of audio signals using PESQ.\"\"\"\n",
    "    audio_ref = audio_ref.astype(np.float32)\n",
    "    audio_deg = audio_deg.astype(np.float32)\n",
    "    pesq_score = pesq(sr, audio_ref, audio_deg, \"nb\")\n",
    "\n",
    "    rms = np.mean(librosa.feature.rms(y=audio_deg))\n",
    "    spectral_flatness = np.mean(librosa.feature.spectral_flatness(y=audio_deg))\n",
    "    zero_crossing_rate = np.mean(librosa.feature.zero_crossing_rate(y=audio_deg))\n",
    "    score = rms * 0.3 + (1 - spectral_flatness) * 0.4 + (1 - zero_crossing_rate) * 0.3\n",
    "    min_score = 0\n",
    "    max_score = 1\n",
    "    mos = 1 + (score - min_score) / (max_score - min_score) * 4 / 10\n",
    "\n",
    "    return pesq_score, mos"
   ]
  },
  {
   "cell_type": "code",
   "execution_count": 3,
   "metadata": {
    "metadata": {}
   },
   "outputs": [
    {
     "name": "stdout",
     "output_type": "stream",
     "text": [
      "Using device: cuda\n"
     ]
    }
   ],
   "source": [
    "hparams = create_hparams()\n",
    "test_dataset = TestTextMelLoader(\"./data/ESD/test.csv\", hparams)\n",
    "collate_fn = TestTextMelCollate(hparams.n_frames_per_step)\n",
    "\n",
    "test_loader = DataLoader(\n",
    "    test_dataset,\n",
    "    batch_size=1,\n",
    "    collate_fn=collate_fn,\n",
    "    shuffle=False,\n",
    ")\n",
    "\n",
    "device = torch.device(\"cuda\" if torch.cuda.is_available() else \"cpu\")\n",
    "print(\"Using device:\", device)"
   ]
  },
  {
   "cell_type": "code",
   "execution_count": 4,
   "metadata": {
    "metadata": {}
   },
   "outputs": [],
   "source": [
    "model = load_generator(hparams, device)\n",
    "model_file = \"/home/xzodia/dev/emo-gan/outputs/train_gan/train_6/generator/checkpoint_epoch_100.pth.tar\"\n",
    "model = load_model_checkpoint(model_file, model)"
   ]
  },
  {
   "cell_type": "code",
   "execution_count": 5,
   "metadata": {
    "metadata": {}
   },
   "outputs": [
    {
     "name": "stderr",
     "output_type": "stream",
     "text": [
      "100%|██████████| 160/160 [01:44<00:00,  1.54it/s]\n"
     ]
    }
   ],
   "source": [
    "pesq_scores = []\n",
    "mos_scores = []\n",
    "\n",
    "model.eval()\n",
    "with torch.no_grad():\n",
    "    for batch in tqdm(test_loader):\n",
    "        x, y, z = parse_test_batch_generator(batch)\n",
    "\n",
    "        (\n",
    "            text_padded,\n",
    "            _,\n",
    "            emotion_vectors,\n",
    "            _,\n",
    "            _,\n",
    "        ) = x\n",
    "\n",
    "        real_mel, _, _ = y\n",
    "\n",
    "        mel_outputs, mel_outputs_postnet, gate_outputs, alignments = model.inference(\n",
    "            text_padded, emotion_vectors\n",
    "        )\n",
    "\n",
    "        ref_audio = recover_wav(real_mel, real_mel)\n",
    "        gen_audio = recover_wav(real_mel, mel_outputs_postnet)\n",
    "\n",
    "        pesq_score, mos_score = evaluate_audio(ref_audio, gen_audio)\n",
    "        pesq_scores.append(pesq_score)\n",
    "        mos_scores.append(mos_score)"
   ]
  },
  {
   "cell_type": "code",
   "execution_count": 6,
   "metadata": {
    "metadata": {}
   },
   "outputs": [
    {
     "name": "stdout",
     "output_type": "stream",
     "text": [
      "PESQ score: 1.3011498846113683\n",
      "MOS score: 3.9971423468175984\n"
     ]
    }
   ],
   "source": [
    "print(\"PESQ score:\", np.mean(pesq_scores))\n",
    "print(\"MOS score:\", np.mean(mos_scores))"
   ]
  }
 ],
 "metadata": {
  "kernelspec": {
   "display_name": "emo-gan",
   "language": "python",
   "name": "python3"
  },
  "language_info": {
   "codemirror_mode": {
    "name": "ipython",
    "version": 3
   },
   "file_extension": ".py",
   "mimetype": "text/x-python",
   "name": "python",
   "nbconvert_exporter": "python",
   "pygments_lexer": "ipython3",
   "version": "3.11.7"
  }
 },
 "nbformat": 4,
 "nbformat_minor": 2
}
