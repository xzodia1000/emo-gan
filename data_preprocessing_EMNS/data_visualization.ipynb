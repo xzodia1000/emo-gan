{
 "cells": [
  {
   "cell_type": "code",
   "execution_count": 2,
   "metadata": {},
   "outputs": [],
   "source": [
    "import pandas as pd\n",
    "import matplotlib.pyplot as plt"
   ]
  },
  {
   "cell_type": "code",
   "execution_count": 3,
   "metadata": {},
   "outputs": [
    {
     "name": "stdout",
     "output_type": "stream",
     "text": [
      "Total number of samples: 1205\n"
     ]
    },
    {
     "data": {
      "text/html": [
       "<div>\n",
       "<style scoped>\n",
       "    .dataframe tbody tr th:only-of-type {\n",
       "        vertical-align: middle;\n",
       "    }\n",
       "\n",
       "    .dataframe tbody tr th {\n",
       "        vertical-align: top;\n",
       "    }\n",
       "\n",
       "    .dataframe thead th {\n",
       "        text-align: right;\n",
       "    }\n",
       "</style>\n",
       "<table border=\"1\" class=\"dataframe\">\n",
       "  <thead>\n",
       "    <tr style=\"text-align: right;\">\n",
       "      <th></th>\n",
       "      <th>id</th>\n",
       "      <th>utterance</th>\n",
       "      <th>description</th>\n",
       "      <th>emotion</th>\n",
       "      <th>date_created</th>\n",
       "      <th>status</th>\n",
       "      <th>gender</th>\n",
       "      <th>age</th>\n",
       "      <th>level</th>\n",
       "      <th>audio_recording</th>\n",
       "      <th>user_id</th>\n",
       "    </tr>\n",
       "  </thead>\n",
       "  <tbody>\n",
       "    <tr>\n",
       "      <th>0</th>\n",
       "      <td>1</td>\n",
       "      <td>Hannu wrote of his expedition in stone.</td>\n",
       "      <td>{user_id} said {transcription} in a {emotion} ...</td>\n",
       "      <td>Sarcastic</td>\n",
       "      <td>2022-05-04 15:57:16.957078</td>\n",
       "      <td>Complete</td>\n",
       "      <td>Female</td>\n",
       "      <td>20s</td>\n",
       "      <td>3</td>\n",
       "      <td>wavs/recorded_audio_A0MwoOW.webm</td>\n",
       "      <td>3</td>\n",
       "    </tr>\n",
       "    <tr>\n",
       "      <th>1</th>\n",
       "      <td>2</td>\n",
       "      <td>Little India differs from many other neighbour...</td>\n",
       "      <td>{transcription} said {user_id} in a {emotion} ...</td>\n",
       "      <td>Excited</td>\n",
       "      <td>2022-05-04 16:04:21.841726</td>\n",
       "      <td>Complete</td>\n",
       "      <td>Female</td>\n",
       "      <td>20s</td>\n",
       "      <td>6</td>\n",
       "      <td>wavs/recorded_audio_nZB5ujA.webm</td>\n",
       "      <td>3</td>\n",
       "    </tr>\n",
       "    <tr>\n",
       "      <th>2</th>\n",
       "      <td>3</td>\n",
       "      <td>Users had the ability to vote on the songs the...</td>\n",
       "      <td>{user_id} said {transcription} With a {emotion...</td>\n",
       "      <td>Neutral</td>\n",
       "      <td>2022-05-04 16:24:47.767515</td>\n",
       "      <td>Complete</td>\n",
       "      <td>Female</td>\n",
       "      <td>20s</td>\n",
       "      <td>0</td>\n",
       "      <td>wavs/recorded_audio.webm</td>\n",
       "      <td>3</td>\n",
       "    </tr>\n",
       "    <tr>\n",
       "      <th>3</th>\n",
       "      <td>4</td>\n",
       "      <td>His major sponsor is Algario Communications, a...</td>\n",
       "      <td>In an {emotion} voice, {user_id} says {transcr...</td>\n",
       "      <td>Surprised</td>\n",
       "      <td>2022-05-04 16:09:25.118523</td>\n",
       "      <td>Complete</td>\n",
       "      <td>Female</td>\n",
       "      <td>20s</td>\n",
       "      <td>8</td>\n",
       "      <td>wavs/recorded_audio_6emr1kD.webm</td>\n",
       "      <td>3</td>\n",
       "    </tr>\n",
       "    <tr>\n",
       "      <th>4</th>\n",
       "      <td>5</td>\n",
       "      <td>The mansion also has a marriage office.</td>\n",
       "      <td>In an {emotion} voice, {user_id} says {transcr...</td>\n",
       "      <td>Sarcastic</td>\n",
       "      <td>2022-05-11 10:29:13.448873</td>\n",
       "      <td>Complete</td>\n",
       "      <td>Female</td>\n",
       "      <td>20s</td>\n",
       "      <td>4</td>\n",
       "      <td>wavs/recorded_audio_ReBGM47.webm</td>\n",
       "      <td>3</td>\n",
       "    </tr>\n",
       "  </tbody>\n",
       "</table>\n",
       "</div>"
      ],
      "text/plain": [
       "   id                                          utterance  \\\n",
       "0   1            Hannu wrote of his expedition in stone.   \n",
       "1   2  Little India differs from many other neighbour...   \n",
       "2   3  Users had the ability to vote on the songs the...   \n",
       "3   4  His major sponsor is Algario Communications, a...   \n",
       "4   5            The mansion also has a marriage office.   \n",
       "\n",
       "                                         description    emotion  \\\n",
       "0  {user_id} said {transcription} in a {emotion} ...  Sarcastic   \n",
       "1  {transcription} said {user_id} in a {emotion} ...    Excited   \n",
       "2  {user_id} said {transcription} With a {emotion...    Neutral   \n",
       "3  In an {emotion} voice, {user_id} says {transcr...  Surprised   \n",
       "4  In an {emotion} voice, {user_id} says {transcr...  Sarcastic   \n",
       "\n",
       "                 date_created    status  gender  age  level  \\\n",
       "0  2022-05-04 15:57:16.957078  Complete  Female  20s      3   \n",
       "1  2022-05-04 16:04:21.841726  Complete  Female  20s      6   \n",
       "2  2022-05-04 16:24:47.767515  Complete  Female  20s      0   \n",
       "3  2022-05-04 16:09:25.118523  Complete  Female  20s      8   \n",
       "4  2022-05-11 10:29:13.448873  Complete  Female  20s      4   \n",
       "\n",
       "                    audio_recording  user_id  \n",
       "0  wavs/recorded_audio_A0MwoOW.webm        3  \n",
       "1  wavs/recorded_audio_nZB5ujA.webm        3  \n",
       "2          wavs/recorded_audio.webm        3  \n",
       "3  wavs/recorded_audio_6emr1kD.webm        3  \n",
       "4  wavs/recorded_audio_ReBGM47.webm        3  "
      ]
     },
     "execution_count": 3,
     "metadata": {},
     "output_type": "execute_result"
    }
   ],
   "source": [
    "df = pd.read_csv(\"./data/EMNS/webm_metadata.csv\", sep=\"|\")\n",
    "\n",
    "print(\"Total number of samples: {}\".format(len(df)))\n",
    "df.head()"
   ]
  },
  {
   "cell_type": "code",
   "execution_count": 4,
   "metadata": {},
   "outputs": [
    {
     "name": "stdout",
     "output_type": "stream",
     "text": [
      "emotion\n",
      "Disgust      165\n",
      "Happy        158\n",
      "Excited      155\n",
      "Surprised    153\n",
      "Sad          150\n",
      "Neutral      149\n",
      "Sarcastic    142\n",
      "Angry        133\n",
      "Name: count, dtype: int64\n"
     ]
    },
    {
     "data": {
      "image/png": "[encoded data removed]",
      "text/plain": [
       "<Figure size 800x400 with 1 Axes>"
      ]
     },
     "metadata": {},
     "output_type": "display_data"
    }
   ],
   "source": [
    "emotions_count = df[\"emotion\"].value_counts()\n",
    "\n",
    "print(emotions_count)\n",
    "\n",
    "plt.figure(figsize=(8, 4))\n",
    "plt.bar(emotions_count.index, emotions_count.values)\n",
    "plt.title(\"Emotions Distribution\")\n",
    "plt.show()"
   ]
  },
  {
   "cell_type": "code",
   "execution_count": 5,
   "metadata": {},
   "outputs": [
    {
     "name": "stdout",
     "output_type": "stream",
     "text": [
      "status\n",
      "Complete          1181\n",
      "Needs Updating      24\n",
      "Name: count, dtype: int64\n"
     ]
    },
    {
     "data": {
      "image/png": "[encoded data removed]",
      "text/plain": [
       "<Figure size 800x400 with 1 Axes>"
      ]
     },
     "metadata": {},
     "output_type": "display_data"
    }
   ],
   "source": [
    "status_count = df[\"status\"].value_counts()\n",
    "\n",
    "print(status_count)\n",
    "\n",
    "plt.figure(figsize=(8, 4))\n",
    "plt.bar(status_count.index, status_count.values)\n",
    "plt.title(\"Status Distribution\")\n",
    "plt.show()"
   ]
  },
  {
   "cell_type": "code",
   "execution_count": 6,
   "metadata": {},
   "outputs": [
    {
     "data": {
      "image/png": "[encoded data removed]",
      "text/plain": [
       "<Figure size 800x400 with 1 Axes>"
      ]
     },
     "metadata": {},
     "output_type": "display_data"
    }
   ],
   "source": [
    "surprised_intensity = df[df[\"emotion\"] == \"Surprised\"][\"level\"].value_counts()\n",
    "\n",
    "plt.figure(figsize=(8, 4))\n",
    "plt.bar(surprised_intensity.index, surprised_intensity.values)\n",
    "plt.title(\"Surprised Intensity\")\n",
    "plt.show()"
   ]
  },
  {
   "cell_type": "code",
   "execution_count": 7,
   "metadata": {},
   "outputs": [
    {
     "data": {
      "image/png": "[encoded data removed]",
      "text/plain": [
       "<Figure size 800x400 with 1 Axes>"
      ]
     },
     "metadata": {},
     "output_type": "display_data"
    }
   ],
   "source": [
    "happy_intensity = df[df[\"emotion\"] == \"Happy\"][\"level\"].value_counts()\n",
    "\n",
    "plt.figure(figsize=(8, 4))\n",
    "plt.bar(happy_intensity.index, happy_intensity.values)\n",
    "plt.title(\"Happy Intensity\")\n",
    "plt.show()"
   ]
  },
  {
   "cell_type": "code",
   "execution_count": 8,
   "metadata": {},
   "outputs": [
    {
     "data": {
      "image/png": "[encoded data removed]",
      "text/plain": [
       "<Figure size 800x400 with 1 Axes>"
      ]
     },
     "metadata": {},
     "output_type": "display_data"
    }
   ],
   "source": [
    "sad_intensity = df[df[\"emotion\"] == \"Sad\"][\"level\"].value_counts()\n",
    "\n",
    "plt.figure(figsize=(8, 4))\n",
    "plt.bar(sad_intensity.index, sad_intensity.values)\n",
    "plt.title(\"Sad Intensity\")\n",
    "plt.show()"
   ]
  },
  {
   "cell_type": "code",
   "execution_count": 9,
   "metadata": {},
   "outputs": [
    {
     "data": {
      "image/png": "[encoded data removed]",
      "text/plain": [
       "<Figure size 800x400 with 1 Axes>"
      ]
     },
     "metadata": {},
     "output_type": "display_data"
    }
   ],
   "source": [
    "angry_intensity = df[df[\"emotion\"] == \"Angry\"][\"level\"].value_counts()\n",
    "\n",
    "plt.figure(figsize=(8, 4))\n",
    "plt.bar(angry_intensity.index, angry_intensity.values)\n",
    "plt.title(\"Angry Intensity\")\n",
    "plt.show()"
   ]
  },
  {
   "cell_type": "code",
   "execution_count": 12,
   "metadata": {},
   "outputs": [
    {
     "name": "stdout",
     "output_type": "stream",
     "text": [
      "Total number of samples: 1181\n"
     ]
    },
    {
     "data": {
      "text/html": [
       "<div>\n",
       "<style scoped>\n",
       "    .dataframe tbody tr th:only-of-type {\n",
       "        vertical-align: middle;\n",
       "    }\n",
       "\n",
       "    .dataframe tbody tr th {\n",
       "        vertical-align: top;\n",
       "    }\n",
       "\n",
       "    .dataframe thead th {\n",
       "        text-align: right;\n",
       "    }\n",
       "</style>\n",
       "<table border=\"1\" class=\"dataframe\">\n",
       "  <thead>\n",
       "    <tr style=\"text-align: right;\">\n",
       "      <th></th>\n",
       "      <th>id</th>\n",
       "      <th>utterance</th>\n",
       "      <th>description</th>\n",
       "      <th>emotion</th>\n",
       "      <th>date_created</th>\n",
       "      <th>status</th>\n",
       "      <th>gender</th>\n",
       "      <th>age</th>\n",
       "      <th>level</th>\n",
       "      <th>audio_recording</th>\n",
       "      <th>user_id</th>\n",
       "    </tr>\n",
       "  </thead>\n",
       "  <tbody>\n",
       "    <tr>\n",
       "      <th>0</th>\n",
       "      <td>1</td>\n",
       "      <td>Hannu wrote of his expedition in stone.</td>\n",
       "      <td>{user_id} said {transcription} in a {emotion} ...</td>\n",
       "      <td>Sarcastic</td>\n",
       "      <td>2022-05-04 15:57:16.957078</td>\n",
       "      <td>Complete</td>\n",
       "      <td>Female</td>\n",
       "      <td>20s</td>\n",
       "      <td>3</td>\n",
       "      <td>recorded_audio_A0MwoOW.wav</td>\n",
       "      <td>3</td>\n",
       "    </tr>\n",
       "    <tr>\n",
       "      <th>1</th>\n",
       "      <td>2</td>\n",
       "      <td>Little India differs from many other neighbour...</td>\n",
       "      <td>{transcription} said {user_id} in a {emotion} ...</td>\n",
       "      <td>Excited</td>\n",
       "      <td>2022-05-04 16:04:21.841726</td>\n",
       "      <td>Complete</td>\n",
       "      <td>Female</td>\n",
       "      <td>20s</td>\n",
       "      <td>6</td>\n",
       "      <td>recorded_audio_nZB5ujA.wav</td>\n",
       "      <td>3</td>\n",
       "    </tr>\n",
       "    <tr>\n",
       "      <th>2</th>\n",
       "      <td>3</td>\n",
       "      <td>Users had the ability to vote on the songs the...</td>\n",
       "      <td>{user_id} said {transcription} With a {emotion...</td>\n",
       "      <td>Neutral</td>\n",
       "      <td>2022-05-04 16:24:47.767515</td>\n",
       "      <td>Complete</td>\n",
       "      <td>Female</td>\n",
       "      <td>20s</td>\n",
       "      <td>0</td>\n",
       "      <td>recorded_audio.wav</td>\n",
       "      <td>3</td>\n",
       "    </tr>\n",
       "    <tr>\n",
       "      <th>3</th>\n",
       "      <td>4</td>\n",
       "      <td>His major sponsor is Algario Communications, a...</td>\n",
       "      <td>In an {emotion} voice, {user_id} says {transcr...</td>\n",
       "      <td>Surprised</td>\n",
       "      <td>2022-05-04 16:09:25.118523</td>\n",
       "      <td>Complete</td>\n",
       "      <td>Female</td>\n",
       "      <td>20s</td>\n",
       "      <td>8</td>\n",
       "      <td>recorded_audio_6emr1kD.wav</td>\n",
       "      <td>3</td>\n",
       "    </tr>\n",
       "    <tr>\n",
       "      <th>4</th>\n",
       "      <td>5</td>\n",
       "      <td>The mansion also has a marriage office.</td>\n",
       "      <td>In an {emotion} voice, {user_id} says {transcr...</td>\n",
       "      <td>Sarcastic</td>\n",
       "      <td>2022-05-11 10:29:13.448873</td>\n",
       "      <td>Complete</td>\n",
       "      <td>Female</td>\n",
       "      <td>20s</td>\n",
       "      <td>4</td>\n",
       "      <td>recorded_audio_ReBGM47.wav</td>\n",
       "      <td>3</td>\n",
       "    </tr>\n",
       "  </tbody>\n",
       "</table>\n",
       "</div>"
      ],
      "text/plain": [
       "   id                                          utterance  \\\n",
       "0   1            Hannu wrote of his expedition in stone.   \n",
       "1   2  Little India differs from many other neighbour...   \n",
       "2   3  Users had the ability to vote on the songs the...   \n",
       "3   4  His major sponsor is Algario Communications, a...   \n",
       "4   5            The mansion also has a marriage office.   \n",
       "\n",
       "                                         description    emotion  \\\n",
       "0  {user_id} said {transcription} in a {emotion} ...  Sarcastic   \n",
       "1  {transcription} said {user_id} in a {emotion} ...    Excited   \n",
       "2  {user_id} said {transcription} With a {emotion...    Neutral   \n",
       "3  In an {emotion} voice, {user_id} says {transcr...  Surprised   \n",
       "4  In an {emotion} voice, {user_id} says {transcr...  Sarcastic   \n",
       "\n",
       "                 date_created    status  gender  age  level  \\\n",
       "0  2022-05-04 15:57:16.957078  Complete  Female  20s      3   \n",
       "1  2022-05-04 16:04:21.841726  Complete  Female  20s      6   \n",
       "2  2022-05-04 16:24:47.767515  Complete  Female  20s      0   \n",
       "3  2022-05-04 16:09:25.118523  Complete  Female  20s      8   \n",
       "4  2022-05-11 10:29:13.448873  Complete  Female  20s      4   \n",
       "\n",
       "              audio_recording  user_id  \n",
       "0  recorded_audio_A0MwoOW.wav        3  \n",
       "1  recorded_audio_nZB5ujA.wav        3  \n",
       "2          recorded_audio.wav        3  \n",
       "3  recorded_audio_6emr1kD.wav        3  \n",
       "4  recorded_audio_ReBGM47.wav        3  "
      ]
     },
     "execution_count": 12,
     "metadata": {},
     "output_type": "execute_result"
    }
   ],
   "source": [
    "df[\"audio_recording\"] = (\n",
    "    df[\"audio_recording\"].str.replace(\"wavs/\", \"\").str.replace(\"webm\", \"wav\")\n",
    ")\n",
    "df = df[df[\"status\"] == \"Complete\"]\n",
    "\n",
    "print(\"Total number of samples: {}\".format(len(df)))\n",
    "df.head()"
   ]
  },
  {
   "cell_type": "code",
   "execution_count": 13,
   "metadata": {},
   "outputs": [],
   "source": [
    "df.to_csv(\"../data/EMNS/wav_metadata.csv\", index=False)"
   ]
  }
 ],
 "metadata": {
  "kernelspec": {
   "display_name": "torch-dissertation",
   "language": "python",
   "name": "python3"
  },
  "language_info": {
   "codemirror_mode": {
    "name": "ipython",
    "version": 3
   },
   "file_extension": ".py",
   "mimetype": "text/x-python",
   "name": "python",
   "nbconvert_exporter": "python",
   "pygments_lexer": "ipython3",
   "version": "3.11.7"
  }
 },
 "nbformat": 4,
 "nbformat_minor": 2
}
