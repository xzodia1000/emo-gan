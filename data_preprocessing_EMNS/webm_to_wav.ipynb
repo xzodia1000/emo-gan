{
 "cells": [
  {
   "cell_type": "code",
   "execution_count": 1,
   "metadata": {},
   "outputs": [],
   "source": [
    "import os\n",
    "import ffmpeg\n",
    "import concurrent.futures\n",
    "from tqdm import tqdm"
   ]
  },
  {
   "cell_type": "code",
   "execution_count": 2,
   "metadata": {},
   "outputs": [],
   "source": [
    "# Convert webm files to wav files\n",
    "def convert_webm_to_wav(input_file, output_file):\n",
    "    try:\n",
    "        stream = ffmpeg.input(input_file)\n",
    "        stream = ffmpeg.output(stream, output_file)\n",
    "        ffmpeg.run(stream, capture_stdout=True, capture_stderr=True)\n",
    "    except ffmpeg.Error as e:\n",
    "        print(f\"Error converting file {input_file}: {e}\")"
   ]
  },
  {
   "cell_type": "code",
   "execution_count": 3,
   "metadata": {},
   "outputs": [],
   "source": [
    "# Process the batch of files\n",
    "def process_batch(batch, source_dir, target_dir):\n",
    "    # Parallelize the conversion of the files\n",
    "    with concurrent.futures.ThreadPoolExecutor() as executor:\n",
    "        futures = [\n",
    "            executor.submit(\n",
    "                convert_webm_to_wav,\n",
    "                os.path.join(source_dir, file_name),\n",
    "                os.path.join(target_dir, os.path.splitext(file_name)[0] + \".wav\"),\n",
    "            )\n",
    "            for file_name in batch\n",
    "        ]\n",
    "\n",
    "        for future in tqdm(\n",
    "            concurrent.futures.as_completed(futures),\n",
    "            total=len(futures),\n",
    "            desc=\"Processing Batch\",\n",
    "        ):\n",
    "            future.result()"
   ]
  },
  {
   "cell_type": "code",
   "execution_count": 4,
   "metadata": {},
   "outputs": [],
   "source": [
    "def create_batches(file_list, batch_size):\n",
    "    for i in range(0, len(file_list), batch_size):\n",
    "        yield file_list[i : i + batch_size]"
   ]
  },
  {
   "cell_type": "code",
   "execution_count": 5,
   "metadata": {},
   "outputs": [
    {
     "name": "stderr",
     "output_type": "stream",
     "text": [
      "Overall Progress:   0%|          | 0/36 [00:00<?, ?it/s]"
     ]
    },
    {
     "name": "stderr",
     "output_type": "stream",
     "text": [
      "Processing Batch: 100%|██████████| 32/32 [00:00<00:00, 222.60it/s]\u001b[A\n",
      "Processing Batch: 100%|██████████| 32/32 [00:00<00:00, 671.38it/s]\n",
      "Processing Batch: 100%|██████████| 32/32 [00:00<00:00, 885.42it/s]\n",
      "Processing Batch: 100%|██████████| 32/32 [00:00<00:00, 577.48it/s]\n",
      "Processing Batch: 100%|██████████| 32/32 [00:00<00:00, 574.74it/s]\n",
      "Processing Batch: 100%|██████████| 32/32 [00:00<00:00, 787.55it/s]\n",
      "Processing Batch: 100%|██████████| 32/32 [00:00<00:00, 921.18it/s]\n",
      "Processing Batch: 100%|██████████| 32/32 [00:00<00:00, 891.56it/s]\n",
      "Processing Batch: 100%|██████████| 32/32 [00:00<00:00, 644.69it/s]\n",
      "Processing Batch: 100%|██████████| 32/32 [00:00<00:00, 1640.72it/s]\n",
      "Processing Batch: 100%|██████████| 32/32 [00:00<00:00, 936.26it/s]\n",
      "Processing Batch: 100%|██████████| 32/32 [00:00<00:00, 994.43it/s]\n",
      "Processing Batch: 100%|██████████| 32/32 [00:00<00:00, 1066.25it/s]\n",
      "Processing Batch: 100%|██████████| 32/32 [00:00<00:00, 1261.79it/s]\n",
      "Processing Batch: 100%|██████████| 32/32 [00:00<00:00, 686.70it/s]\n",
      "Processing Batch: 100%|██████████| 32/32 [00:00<00:00, 868.73it/s]\n",
      "Processing Batch: 100%|██████████| 32/32 [00:00<00:00, 1099.54it/s]\n",
      "Processing Batch: 100%|██████████| 32/32 [00:00<00:00, 929.57it/s]\n",
      "Processing Batch: 100%|██████████| 32/32 [00:00<00:00, 1028.19it/s]\n",
      "Processing Batch: 100%|██████████| 32/32 [00:00<00:00, 956.64it/s]\n",
      "Processing Batch: 100%|██████████| 32/32 [00:00<00:00, 1629.53it/s]\n",
      "Processing Batch: 100%|██████████| 32/32 [00:00<00:00, 854.33it/s]\n",
      "Processing Batch: 100%|██████████| 32/32 [00:00<00:00, 903.94it/s]\n",
      "Processing Batch: 100%|██████████| 32/32 [00:00<00:00, 1392.78it/s]\n",
      "Processing Batch: 100%|██████████| 32/32 [00:00<00:00, 1387.05it/s]\n",
      "Processing Batch: 100%|██████████| 32/32 [00:00<00:00, 865.99it/s]\n",
      "Processing Batch: 100%|██████████| 32/32 [00:00<00:00, 940.56it/s]\n",
      "Processing Batch: 100%|██████████| 32/32 [00:00<00:00, 1440.66it/s]\n",
      "Processing Batch: 100%|██████████| 32/32 [00:00<00:00, 749.00it/s]\n",
      "Processing Batch: 100%|██████████| 32/32 [00:00<00:00, 1006.03it/s]\n",
      "Processing Batch: 100%|██████████| 32/32 [00:00<00:00, 2059.56it/s]\n",
      "Processing Batch: 100%|██████████| 32/32 [00:00<00:00, 1562.94it/s]\n",
      "Processing Batch: 100%|██████████| 32/32 [00:00<00:00, 740.84it/s]\n",
      "Processing Batch: 100%|██████████| 32/32 [00:00<00:00, 1487.95it/s]\n",
      "Processing Batch: 100%|██████████| 32/32 [00:00<00:00, 1273.43it/s]\n",
      "Processing Batch: 100%|██████████| 32/32 [00:00<00:00, 641.55it/s]\n",
      "Processing Batch: 100%|██████████| 29/29 [00:00<00:00, 760.12it/s]\n",
      "Overall Progress: 37it [00:02, 13.11it/s]                        \n"
     ]
    }
   ],
   "source": [
    "source_directory = \"../data/EMNS/raw_webm\"\n",
    "target_directory = \"../data/EMNS/raw_wavs\"\n",
    "all_files = [f for f in os.listdir(source_directory) if f.endswith(\".webm\")]\n",
    "batch_size = 32\n",
    "\n",
    "for batch in tqdm(\n",
    "    create_batches(all_files, batch_size),\n",
    "    desc=\"Overall Progress\",\n",
    "    total=len(all_files) // batch_size,\n",
    "):\n",
    "    process_batch(batch, source_directory, target_directory)"
   ]
  }
 ],
 "metadata": {
  "kernelspec": {
   "display_name": "torch-dissertation",
   "language": "python",
   "name": "python3"
  },
  "language_info": {
   "codemirror_mode": {
    "name": "ipython",
    "version": 3
   },
   "file_extension": ".py",
   "mimetype": "text/x-python",
   "name": "python",
   "nbconvert_exporter": "python",
   "pygments_lexer": "ipython3",
   "version": "3.11.7"
  }
 },
 "nbformat": 4,
 "nbformat_minor": 2
}
