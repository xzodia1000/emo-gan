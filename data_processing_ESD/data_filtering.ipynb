{
 "cells": [
  {
   "cell_type": "code",
   "execution_count": 1,
   "metadata": {},
   "outputs": [],
   "source": [
    "import pandas as pd\n",
    "from sklearn.model_selection import train_test_split"
   ]
  },
  {
   "cell_type": "code",
   "execution_count": 2,
   "metadata": {},
   "outputs": [],
   "source": [
    "column_names = [\"audio\", \"text\", \"emotion\"]\n",
    "speakers = [\"11\", \"12\", \"13\", \"14\", \"15\", \"16\", \"17\", \"18\", \"19\", \"20\"]\n",
    "# speakers = [\"19\"]\n",
    "all_emotions = [\"Neutral\", \"Surprise\", \"Happy\", \"Sad\", \"Angry\"]\n",
    "df = pd.DataFrame()"
   ]
  },
  {
   "cell_type": "code",
   "execution_count": 3,
   "metadata": {},
   "outputs": [],
   "source": [
    "def convert_to_vector(emotion):\n",
    "    base_vector = [0.0] * len(all_emotions)\n",
    "    index = all_emotions.index(emotion)\n",
    "    base_vector[index] = 1.0\n",
    "\n",
    "    return base_vector"
   ]
  },
  {
   "cell_type": "code",
   "execution_count": 4,
   "metadata": {},
   "outputs": [],
   "source": [
    "def rename_wav(audio):\n",
    "    return audio[:4] + \"/\" + audio + \".wav\""
   ]
  },
  {
   "cell_type": "code",
   "execution_count": 5,
   "metadata": {},
   "outputs": [],
   "source": [
    "for i in speakers:\n",
    "    tmp_df = pd.read_csv(\n",
    "        f\"/home/xzodia/dev/emo-gan/data/ESD/00{i}/00{i}.txt\",\n",
    "        sep=\"\\t\",\n",
    "        names=column_names,\n",
    "    )\n",
    "\n",
    "    tmp_df[\"emotion\"] = tmp_df[\"emotion\"].apply(convert_to_vector)\n",
    "    tmp_df = tmp_df[[\"text\", \"emotion\", \"audio\"]]\n",
    "    tmp_df[\"audio\"] = tmp_df[\"audio\"].apply(rename_wav)\n",
    "    tmp_df[\"speaker\"] = int(i)\n",
    "\n",
    "    df = pd.concat([df, tmp_df], axis=0).reset_index(drop=True)"
   ]
  },
  {
   "cell_type": "code",
   "execution_count": 6,
   "metadata": {},
   "outputs": [
    {
     "data": {
      "text/html": [
       "<div>\n",
       "<style scoped>\n",
       "    .dataframe tbody tr th:only-of-type {\n",
       "        vertical-align: middle;\n",
       "    }\n",
       "\n",
       "    .dataframe tbody tr th {\n",
       "        vertical-align: top;\n",
       "    }\n",
       "\n",
       "    .dataframe thead th {\n",
       "        text-align: right;\n",
       "    }\n",
       "</style>\n",
       "<table border=\"1\" class=\"dataframe\">\n",
       "  <thead>\n",
       "    <tr style=\"text-align: right;\">\n",
       "      <th></th>\n",
       "      <th>text</th>\n",
       "      <th>emotion</th>\n",
       "      <th>audio</th>\n",
       "      <th>speaker</th>\n",
       "    </tr>\n",
       "  </thead>\n",
       "  <tbody>\n",
       "    <tr>\n",
       "      <th>0</th>\n",
       "      <td>The nine the eggs, I keep.</td>\n",
       "      <td>[1.0, 0.0, 0.0, 0.0, 0.0]</td>\n",
       "      <td>0011/0011_000001.wav</td>\n",
       "      <td>11</td>\n",
       "    </tr>\n",
       "    <tr>\n",
       "      <th>1</th>\n",
       "      <td>I did go, and made many prisoners.</td>\n",
       "      <td>[1.0, 0.0, 0.0, 0.0, 0.0]</td>\n",
       "      <td>0011/0011_000002.wav</td>\n",
       "      <td>11</td>\n",
       "    </tr>\n",
       "    <tr>\n",
       "      <th>2</th>\n",
       "      <td>That I owe my thanks to you.</td>\n",
       "      <td>[1.0, 0.0, 0.0, 0.0, 0.0]</td>\n",
       "      <td>0011/0011_000003.wav</td>\n",
       "      <td>11</td>\n",
       "    </tr>\n",
       "    <tr>\n",
       "      <th>3</th>\n",
       "      <td>They went up to the dark mass job had pointed ...</td>\n",
       "      <td>[1.0, 0.0, 0.0, 0.0, 0.0]</td>\n",
       "      <td>0011/0011_000004.wav</td>\n",
       "      <td>11</td>\n",
       "    </tr>\n",
       "    <tr>\n",
       "      <th>4</th>\n",
       "      <td>Clear than clear water!</td>\n",
       "      <td>[1.0, 0.0, 0.0, 0.0, 0.0]</td>\n",
       "      <td>0011/0011_000005.wav</td>\n",
       "      <td>11</td>\n",
       "    </tr>\n",
       "  </tbody>\n",
       "</table>\n",
       "</div>"
      ],
      "text/plain": [
       "                                                text  \\\n",
       "0                         The nine the eggs, I keep.   \n",
       "1                 I did go, and made many prisoners.   \n",
       "2                       That I owe my thanks to you.   \n",
       "3  They went up to the dark mass job had pointed ...   \n",
       "4                            Clear than clear water!   \n",
       "\n",
       "                     emotion                 audio  speaker  \n",
       "0  [1.0, 0.0, 0.0, 0.0, 0.0]  0011/0011_000001.wav       11  \n",
       "1  [1.0, 0.0, 0.0, 0.0, 0.0]  0011/0011_000002.wav       11  \n",
       "2  [1.0, 0.0, 0.0, 0.0, 0.0]  0011/0011_000003.wav       11  \n",
       "3  [1.0, 0.0, 0.0, 0.0, 0.0]  0011/0011_000004.wav       11  \n",
       "4  [1.0, 0.0, 0.0, 0.0, 0.0]  0011/0011_000005.wav       11  "
      ]
     },
     "execution_count": 6,
     "metadata": {},
     "output_type": "execute_result"
    }
   ],
   "source": [
    "df.head()"
   ]
  },
  {
   "cell_type": "code",
   "execution_count": 7,
   "metadata": {},
   "outputs": [
    {
     "name": "stdout",
     "output_type": "stream",
     "text": [
      "emotion\n",
      "[1.0, 0.0, 0.0, 0.0, 0.0]    3500\n",
      "[0.0, 0.0, 0.0, 0.0, 1.0]    3500\n",
      "[0.0, 0.0, 1.0, 0.0, 0.0]    3500\n",
      "[0.0, 0.0, 0.0, 1.0, 0.0]    3500\n",
      "[0.0, 1.0, 0.0, 0.0, 0.0]    3500\n",
      "Name: count, dtype: int64\n"
     ]
    }
   ],
   "source": [
    "emotions_count = df[\"emotion\"].value_counts()\n",
    "print(emotions_count)"
   ]
  },
  {
   "cell_type": "code",
   "execution_count": 8,
   "metadata": {},
   "outputs": [],
   "source": [
    "train_df, valid_df = train_test_split(df, test_size=0.2, random_state=42)\n",
    "\n",
    "valid_df.rename(columns={\"speaker\": \"augment\"}, inplace=True)\n",
    "valid_df[\"augment\"] = 0\n",
    "valid_df.to_csv(\"./data/ESD/validation.csv\", index=False, header=False, sep=\"|\")"
   ]
  },
  {
   "cell_type": "code",
   "execution_count": 9,
   "metadata": {},
   "outputs": [
    {
     "name": "stdout",
     "output_type": "stream",
     "text": [
      "(14000, 4)\n"
     ]
    },
    {
     "data": {
      "text/html": [
       "<div>\n",
       "<style scoped>\n",
       "    .dataframe tbody tr th:only-of-type {\n",
       "        vertical-align: middle;\n",
       "    }\n",
       "\n",
       "    .dataframe tbody tr th {\n",
       "        vertical-align: top;\n",
       "    }\n",
       "\n",
       "    .dataframe thead th {\n",
       "        text-align: right;\n",
       "    }\n",
       "</style>\n",
       "<table border=\"1\" class=\"dataframe\">\n",
       "  <thead>\n",
       "    <tr style=\"text-align: right;\">\n",
       "      <th></th>\n",
       "      <th>text</th>\n",
       "      <th>emotion</th>\n",
       "      <th>audio</th>\n",
       "      <th>augment</th>\n",
       "    </tr>\n",
       "  </thead>\n",
       "  <tbody>\n",
       "    <tr>\n",
       "      <th>8762</th>\n",
       "      <td>I have bunburyed all over goat on two separate...</td>\n",
       "      <td>[1.0, 0.0, 0.0, 0.0, 0.0]</td>\n",
       "      <td>0016/0016_000013.wav</td>\n",
       "      <td>0</td>\n",
       "    </tr>\n",
       "    <tr>\n",
       "      <th>7540</th>\n",
       "      <td>I make her quite nervy at times.</td>\n",
       "      <td>[0.0, 0.0, 0.0, 0.0, 1.0]</td>\n",
       "      <td>0015/0015_000541.wav</td>\n",
       "      <td>0</td>\n",
       "    </tr>\n",
       "    <tr>\n",
       "      <th>12270</th>\n",
       "      <td>As rich as Peter's son in law!</td>\n",
       "      <td>[1.0, 0.0, 0.0, 0.0, 0.0]</td>\n",
       "      <td>0018/0018_000021.wav</td>\n",
       "      <td>0</td>\n",
       "    </tr>\n",
       "    <tr>\n",
       "      <th>10708</th>\n",
       "      <td>A raging fire was in his eyes.</td>\n",
       "      <td>[1.0, 0.0, 0.0, 0.0, 0.0]</td>\n",
       "      <td>0017/0017_000209.wav</td>\n",
       "      <td>0</td>\n",
       "    </tr>\n",
       "    <tr>\n",
       "      <th>3646</th>\n",
       "      <td>And there you'll find a snap dragon fly.</td>\n",
       "      <td>[1.0, 0.0, 0.0, 0.0, 0.0]</td>\n",
       "      <td>0013/0013_000147.wav</td>\n",
       "      <td>0</td>\n",
       "    </tr>\n",
       "  </tbody>\n",
       "</table>\n",
       "</div>"
      ],
      "text/plain": [
       "                                                    text  \\\n",
       "8762   I have bunburyed all over goat on two separate...   \n",
       "7540                    I make her quite nervy at times.   \n",
       "12270                     As rich as Peter's son in law!   \n",
       "10708                     A raging fire was in his eyes.   \n",
       "3646            And there you'll find a snap dragon fly.   \n",
       "\n",
       "                         emotion                 audio  augment  \n",
       "8762   [1.0, 0.0, 0.0, 0.0, 0.0]  0016/0016_000013.wav        0  \n",
       "7540   [0.0, 0.0, 0.0, 0.0, 1.0]  0015/0015_000541.wav        0  \n",
       "12270  [1.0, 0.0, 0.0, 0.0, 0.0]  0018/0018_000021.wav        0  \n",
       "10708  [1.0, 0.0, 0.0, 0.0, 0.0]  0017/0017_000209.wav        0  \n",
       "3646   [1.0, 0.0, 0.0, 0.0, 0.0]  0013/0013_000147.wav        0  "
      ]
     },
     "execution_count": 9,
     "metadata": {},
     "output_type": "execute_result"
    }
   ],
   "source": [
    "train_df.rename(columns={'speaker': 'augment'}, inplace=True)\n",
    "train_df[\"augment\"] = 0\n",
    "print(train_df.shape)\n",
    "train_df.head()"
   ]
  },
  {
   "cell_type": "code",
   "execution_count": 10,
   "metadata": {},
   "outputs": [
    {
     "data": {
      "text/html": [
       "<div>\n",
       "<style scoped>\n",
       "    .dataframe tbody tr th:only-of-type {\n",
       "        vertical-align: middle;\n",
       "    }\n",
       "\n",
       "    .dataframe tbody tr th {\n",
       "        vertical-align: top;\n",
       "    }\n",
       "\n",
       "    .dataframe thead th {\n",
       "        text-align: right;\n",
       "    }\n",
       "</style>\n",
       "<table border=\"1\" class=\"dataframe\">\n",
       "  <thead>\n",
       "    <tr style=\"text-align: right;\">\n",
       "      <th></th>\n",
       "      <th>text</th>\n",
       "      <th>emotion</th>\n",
       "      <th>audio</th>\n",
       "      <th>augment</th>\n",
       "    </tr>\n",
       "  </thead>\n",
       "  <tbody>\n",
       "    <tr>\n",
       "      <th>0</th>\n",
       "      <td>I have bunburyed all over goat on two separate...</td>\n",
       "      <td>[1.0, 0.0, 0.0, 0.0, 0.0]</td>\n",
       "      <td>0016/0016_000013.wav</td>\n",
       "      <td>0</td>\n",
       "    </tr>\n",
       "    <tr>\n",
       "      <th>1</th>\n",
       "      <td>I make her quite nervy at times.</td>\n",
       "      <td>[0.0, 0.0, 0.0, 0.0, 1.0]</td>\n",
       "      <td>0015/0015_000541.wav</td>\n",
       "      <td>0</td>\n",
       "    </tr>\n",
       "    <tr>\n",
       "      <th>2</th>\n",
       "      <td>As rich as Peter's son in law!</td>\n",
       "      <td>[1.0, 0.0, 0.0, 0.0, 0.0]</td>\n",
       "      <td>0018/0018_000021.wav</td>\n",
       "      <td>0</td>\n",
       "    </tr>\n",
       "    <tr>\n",
       "      <th>3</th>\n",
       "      <td>A raging fire was in his eyes.</td>\n",
       "      <td>[1.0, 0.0, 0.0, 0.0, 0.0]</td>\n",
       "      <td>0017/0017_000209.wav</td>\n",
       "      <td>0</td>\n",
       "    </tr>\n",
       "    <tr>\n",
       "      <th>4</th>\n",
       "      <td>And there you'll find a snap dragon fly.</td>\n",
       "      <td>[1.0, 0.0, 0.0, 0.0, 0.0]</td>\n",
       "      <td>0013/0013_000147.wav</td>\n",
       "      <td>0</td>\n",
       "    </tr>\n",
       "  </tbody>\n",
       "</table>\n",
       "</div>"
      ],
      "text/plain": [
       "                                                text  \\\n",
       "0  I have bunburyed all over goat on two separate...   \n",
       "1                   I make her quite nervy at times.   \n",
       "2                     As rich as Peter's son in law!   \n",
       "3                     A raging fire was in his eyes.   \n",
       "4           And there you'll find a snap dragon fly.   \n",
       "\n",
       "                     emotion                 audio  augment  \n",
       "0  [1.0, 0.0, 0.0, 0.0, 0.0]  0016/0016_000013.wav        0  \n",
       "1  [0.0, 0.0, 0.0, 0.0, 1.0]  0015/0015_000541.wav        0  \n",
       "2  [1.0, 0.0, 0.0, 0.0, 0.0]  0018/0018_000021.wav        0  \n",
       "3  [1.0, 0.0, 0.0, 0.0, 0.0]  0017/0017_000209.wav        0  \n",
       "4  [1.0, 0.0, 0.0, 0.0, 0.0]  0013/0013_000147.wav        0  "
      ]
     },
     "execution_count": 10,
     "metadata": {},
     "output_type": "execute_result"
    }
   ],
   "source": [
    "train_df_copy = train_df.copy()\n",
    "train_df_copy[\"augment\"] = 1\n",
    "train_df = pd.concat([train_df, train_df_copy], axis=0).reset_index(drop=True)\n",
    "train_df.head()"
   ]
  },
  {
   "cell_type": "code",
   "execution_count": 11,
   "metadata": {},
   "outputs": [
    {
     "name": "stdout",
     "output_type": "stream",
     "text": [
      "(28000, 4)\n"
     ]
    }
   ],
   "source": [
    "train_df.to_csv(\"./data/ESD/training.csv\", index=False, header=False, sep=\"|\")\n",
    "print(train_df.shape)"
   ]
  },
  {
   "cell_type": "code",
   "execution_count": 12,
   "metadata": {},
   "outputs": [
    {
     "data": {
      "text/html": [
       "<div>\n",
       "<style scoped>\n",
       "    .dataframe tbody tr th:only-of-type {\n",
       "        vertical-align: middle;\n",
       "    }\n",
       "\n",
       "    .dataframe tbody tr th {\n",
       "        vertical-align: top;\n",
       "    }\n",
       "\n",
       "    .dataframe thead th {\n",
       "        text-align: right;\n",
       "    }\n",
       "</style>\n",
       "<table border=\"1\" class=\"dataframe\">\n",
       "  <thead>\n",
       "    <tr style=\"text-align: right;\">\n",
       "      <th></th>\n",
       "      <th>text</th>\n",
       "      <th>emotion</th>\n",
       "      <th>audio</th>\n",
       "      <th>speaker</th>\n",
       "    </tr>\n",
       "  </thead>\n",
       "  <tbody>\n",
       "    <tr>\n",
       "      <th>0</th>\n",
       "      <td>I have bunburyed all over goat on two separate...</td>\n",
       "      <td>[1.0, 0.0, 0.0, 0.0, 0.0]</td>\n",
       "      <td>0016/0016_000013.wav</td>\n",
       "      <td>16</td>\n",
       "    </tr>\n",
       "    <tr>\n",
       "      <th>1</th>\n",
       "      <td>I make her quite nervy at times.</td>\n",
       "      <td>[0.0, 0.0, 0.0, 0.0, 1.0]</td>\n",
       "      <td>0015/0015_000541.wav</td>\n",
       "      <td>15</td>\n",
       "    </tr>\n",
       "    <tr>\n",
       "      <th>2</th>\n",
       "      <td>As rich as Peter's son in law!</td>\n",
       "      <td>[1.0, 0.0, 0.0, 0.0, 0.0]</td>\n",
       "      <td>0018/0018_000021.wav</td>\n",
       "      <td>18</td>\n",
       "    </tr>\n",
       "    <tr>\n",
       "      <th>3</th>\n",
       "      <td>A raging fire was in his eyes.</td>\n",
       "      <td>[1.0, 0.0, 0.0, 0.0, 0.0]</td>\n",
       "      <td>0017/0017_000209.wav</td>\n",
       "      <td>17</td>\n",
       "    </tr>\n",
       "    <tr>\n",
       "      <th>4</th>\n",
       "      <td>And there you'll find a snap dragon fly.</td>\n",
       "      <td>[1.0, 0.0, 0.0, 0.0, 0.0]</td>\n",
       "      <td>0013/0013_000147.wav</td>\n",
       "      <td>13</td>\n",
       "    </tr>\n",
       "  </tbody>\n",
       "</table>\n",
       "</div>"
      ],
      "text/plain": [
       "                                                text  \\\n",
       "0  I have bunburyed all over goat on two separate...   \n",
       "1                   I make her quite nervy at times.   \n",
       "2                     As rich as Peter's son in law!   \n",
       "3                     A raging fire was in his eyes.   \n",
       "4           And there you'll find a snap dragon fly.   \n",
       "\n",
       "                     emotion                 audio  speaker  \n",
       "0  [1.0, 0.0, 0.0, 0.0, 0.0]  0016/0016_000013.wav       16  \n",
       "1  [0.0, 0.0, 0.0, 0.0, 1.0]  0015/0015_000541.wav       15  \n",
       "2  [1.0, 0.0, 0.0, 0.0, 0.0]  0018/0018_000021.wav       18  \n",
       "3  [1.0, 0.0, 0.0, 0.0, 0.0]  0017/0017_000209.wav       17  \n",
       "4  [1.0, 0.0, 0.0, 0.0, 0.0]  0013/0013_000147.wav       13  "
      ]
     },
     "execution_count": 12,
     "metadata": {},
     "output_type": "execute_result"
    }
   ],
   "source": [
    "train_df = pd.concat([train_df, valid_df], axis=0).reset_index(drop=True)\n",
    "train_df = train_df[train_df[\"augment\"] == 0]\n",
    "train_df.rename(columns={'augment': 'speaker'}, inplace=True)\n",
    "train_df[\"speaker\"] = train_df[\"audio\"].apply(lambda x: int(x[2:4]))\n",
    "train_df.head()"
   ]
  },
  {
   "cell_type": "code",
   "execution_count": 13,
   "metadata": {},
   "outputs": [],
   "source": [
    "surprise_index = train_df[train_df[\"emotion\"].apply(lambda x: x[1] == 1.0)].index\n",
    "mixed_records = []\n",
    "\n",
    "for i in surprise_index:\n",
    "    text = train_df.loc[i, \"text\"]\n",
    "    speaker = train_df.loc[i, \"speaker\"]\n",
    "    audio1 = train_df.loc[i, \"audio\"]\n",
    "\n",
    "    matches = train_df[\n",
    "        (train_df[\"text\"] == text)\n",
    "        & (train_df[\"speaker\"] == speaker)\n",
    "        & (\n",
    "            train_df[\"emotion\"].apply(\n",
    "                lambda x: x[2] == 1.0 or x[3] == 1.0 or x[4] == 1.0\n",
    "            )\n",
    "        )\n",
    "    ]\n",
    "\n",
    "    for _, row in matches.iterrows():\n",
    "        emotion_vector = [0.0, 1.0] + row[\"emotion\"][2:]\n",
    "        new_row = {\n",
    "            \"text\": text,\n",
    "            \"emotion\": emotion_vector,\n",
    "            \"audio1\": audio1,\n",
    "            \"audio2\": row[\"audio\"],\n",
    "        }\n",
    "        mixed_records.append(new_row)\n",
    "\n",
    "mixed_df = pd.DataFrame(mixed_records)"
   ]
  },
  {
   "cell_type": "code",
   "execution_count": 14,
   "metadata": {},
   "outputs": [
    {
     "name": "stdout",
     "output_type": "stream",
     "text": [
      "(10274, 4)\n"
     ]
    },
    {
     "data": {
      "text/html": [
       "<div>\n",
       "<style scoped>\n",
       "    .dataframe tbody tr th:only-of-type {\n",
       "        vertical-align: middle;\n",
       "    }\n",
       "\n",
       "    .dataframe tbody tr th {\n",
       "        vertical-align: top;\n",
       "    }\n",
       "\n",
       "    .dataframe thead th {\n",
       "        text-align: right;\n",
       "    }\n",
       "</style>\n",
       "<table border=\"1\" class=\"dataframe\">\n",
       "  <thead>\n",
       "    <tr style=\"text-align: right;\">\n",
       "      <th></th>\n",
       "      <th>text</th>\n",
       "      <th>emotion</th>\n",
       "      <th>audio1</th>\n",
       "      <th>audio2</th>\n",
       "    </tr>\n",
       "  </thead>\n",
       "  <tbody>\n",
       "    <tr>\n",
       "      <th>0</th>\n",
       "      <td>Chapter eighteen, the return journey.</td>\n",
       "      <td>[0.0, 1.0, 0.0, 0.0, 1.0]</td>\n",
       "      <td>0014/0014_001684.wav</td>\n",
       "      <td>0014/0014_000634.wav</td>\n",
       "    </tr>\n",
       "    <tr>\n",
       "      <th>1</th>\n",
       "      <td>Chapter eighteen, the return journey.</td>\n",
       "      <td>[0.0, 1.0, 0.0, 1.0, 0.0]</td>\n",
       "      <td>0014/0014_001684.wav</td>\n",
       "      <td>0014/0014_001334.wav</td>\n",
       "    </tr>\n",
       "    <tr>\n",
       "      <th>2</th>\n",
       "      <td>Chapter eighteen, the return journey.</td>\n",
       "      <td>[0.0, 1.0, 1.0, 0.0, 0.0]</td>\n",
       "      <td>0014/0014_001684.wav</td>\n",
       "      <td>0014/0014_000984.wav</td>\n",
       "    </tr>\n",
       "    <tr>\n",
       "      <th>3</th>\n",
       "      <td>I chose the right way.</td>\n",
       "      <td>[0.0, 1.0, 1.0, 0.0, 0.0]</td>\n",
       "      <td>0020/0020_001441.wav</td>\n",
       "      <td>0020/0020_000741.wav</td>\n",
       "    </tr>\n",
       "    <tr>\n",
       "      <th>4</th>\n",
       "      <td>I chose the right way.</td>\n",
       "      <td>[0.0, 1.0, 0.0, 0.0, 1.0]</td>\n",
       "      <td>0020/0020_001441.wav</td>\n",
       "      <td>0020/0020_000391.wav</td>\n",
       "    </tr>\n",
       "  </tbody>\n",
       "</table>\n",
       "</div>"
      ],
      "text/plain": [
       "                                    text                    emotion  \\\n",
       "0  Chapter eighteen, the return journey.  [0.0, 1.0, 0.0, 0.0, 1.0]   \n",
       "1  Chapter eighteen, the return journey.  [0.0, 1.0, 0.0, 1.0, 0.0]   \n",
       "2  Chapter eighteen, the return journey.  [0.0, 1.0, 1.0, 0.0, 0.0]   \n",
       "3                 I chose the right way.  [0.0, 1.0, 1.0, 0.0, 0.0]   \n",
       "4                 I chose the right way.  [0.0, 1.0, 0.0, 0.0, 1.0]   \n",
       "\n",
       "                 audio1                audio2  \n",
       "0  0014/0014_001684.wav  0014/0014_000634.wav  \n",
       "1  0014/0014_001684.wav  0014/0014_001334.wav  \n",
       "2  0014/0014_001684.wav  0014/0014_000984.wav  \n",
       "3  0020/0020_001441.wav  0020/0020_000741.wav  \n",
       "4  0020/0020_001441.wav  0020/0020_000391.wav  "
      ]
     },
     "execution_count": 14,
     "metadata": {},
     "output_type": "execute_result"
    }
   ],
   "source": [
    "print(mixed_df.shape)\n",
    "mixed_df.head()"
   ]
  },
  {
   "cell_type": "code",
   "execution_count": 15,
   "metadata": {},
   "outputs": [],
   "source": [
    "mixed_train_df, mixed_valid_df = train_test_split(mixed_df, test_size=0.2, random_state=42)\n",
    "\n",
    "mixed_train_df.to_csv(\"./data/ESD/mixed_training.csv\", index=False, header=False, sep=\"|\")\n",
    "mixed_valid_df.to_csv(\"./data/ESD/mixed_validation.csv\", index=False, header=False, sep=\"|\")"
   ]
  }
 ],
 "metadata": {
  "kernelspec": {
   "display_name": "emo-gan",
   "language": "python",
   "name": "python3"
  },
  "language_info": {
   "codemirror_mode": {
    "name": "ipython",
    "version": 3
   },
   "file_extension": ".py",
   "mimetype": "text/x-python",
   "name": "python",
   "nbconvert_exporter": "python",
   "pygments_lexer": "ipython3",
   "version": "3.11.7"
  }
 },
 "nbformat": 4,
 "nbformat_minor": 2
}
