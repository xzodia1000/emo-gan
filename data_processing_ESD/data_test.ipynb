{
 "cells": [
  {
   "cell_type": "code",
   "execution_count": 1,
   "metadata": {
    "metadata": {}
   },
   "outputs": [],
   "source": [
    "import pandas as pd"
   ]
  },
  {
   "cell_type": "code",
   "execution_count": 2,
   "metadata": {
    "metadata": {}
   },
   "outputs": [],
   "source": [
    "column_names = [\"audio\", \"text\", \"emotion\"]\n",
    "speakers = [\"13\", \"19\"]\n",
    "all_emotions = [\"Neutral\", \"Surprise\", \"Happy\", \"Sad\", \"Angry\"]\n",
    "df = pd.DataFrame()"
   ]
  },
  {
   "cell_type": "code",
   "execution_count": 3,
   "metadata": {
    "metadata": {}
   },
   "outputs": [],
   "source": [
    "def convert_to_vector(emotion):\n",
    "    base_vector = [0.0] * len(all_emotions)\n",
    "    index = all_emotions.index(emotion)\n",
    "    base_vector[index] = 1.0\n",
    "\n",
    "    return base_vector"
   ]
  },
  {
   "cell_type": "code",
   "execution_count": 4,
   "metadata": {
    "metadata": {}
   },
   "outputs": [],
   "source": [
    "def rename_wav(audio):\n",
    "    return audio[:4] + \"/\" + audio + \".wav\""
   ]
  },
  {
   "cell_type": "code",
   "execution_count": 5,
   "metadata": {
    "metadata": {}
   },
   "outputs": [],
   "source": [
    "for i in speakers:\n",
    "    tmp_df = pd.read_csv(\n",
    "        f\"/home/xzodia/dev/emo-gan/data/ESD/00{i}/00{i}.txt\",\n",
    "        sep=\"\\t\",\n",
    "        names=column_names,\n",
    "    )\n",
    "\n",
    "    tmp_df = tmp_df.groupby(\"emotion\").head(20)\n",
    "    tmp_df = tmp_df[tmp_df[\"emotion\"] != \"Neutral\"]\n",
    "    tmp_df[\"emotion\"] = tmp_df[\"emotion\"].apply(convert_to_vector)\n",
    "    tmp_df = tmp_df[[\"text\", \"emotion\", \"audio\"]]\n",
    "    tmp_df[\"audio\"] = tmp_df[\"audio\"].apply(rename_wav)\n",
    "    tmp_df[\"speaker\"] = int(i)\n",
    "\n",
    "    df = pd.concat([df, tmp_df], axis=0).reset_index(drop=True)"
   ]
  },
  {
   "cell_type": "code",
   "execution_count": 6,
   "metadata": {
    "metadata": {}
   },
   "outputs": [
    {
     "data": {
      "text/html": [
       "<div>\n",
       "<style scoped>\n",
       "    .dataframe tbody tr th:only-of-type {\n",
       "        vertical-align: middle;\n",
       "    }\n",
       "\n",
       "    .dataframe tbody tr th {\n",
       "        vertical-align: top;\n",
       "    }\n",
       "\n",
       "    .dataframe thead th {\n",
       "        text-align: right;\n",
       "    }\n",
       "</style>\n",
       "<table border=\"1\" class=\"dataframe\">\n",
       "  <thead>\n",
       "    <tr style=\"text-align: right;\">\n",
       "      <th></th>\n",
       "      <th>text</th>\n",
       "      <th>emotion</th>\n",
       "      <th>audio</th>\n",
       "      <th>speaker</th>\n",
       "    </tr>\n",
       "  </thead>\n",
       "  <tbody>\n",
       "    <tr>\n",
       "      <th>0</th>\n",
       "      <td>The nine the eggs, I keep.</td>\n",
       "      <td>[0.0, 0.0, 0.0, 0.0, 1.0]</td>\n",
       "      <td>0013/0013_000351.wav</td>\n",
       "      <td>13</td>\n",
       "    </tr>\n",
       "    <tr>\n",
       "      <th>1</th>\n",
       "      <td>I did go, and made many prisoners.</td>\n",
       "      <td>[0.0, 0.0, 0.0, 0.0, 1.0]</td>\n",
       "      <td>0013/0013_000352.wav</td>\n",
       "      <td>13</td>\n",
       "    </tr>\n",
       "    <tr>\n",
       "      <th>2</th>\n",
       "      <td>That I owe my thanks to you.</td>\n",
       "      <td>[0.0, 0.0, 0.0, 0.0, 1.0]</td>\n",
       "      <td>0013/0013_000353.wav</td>\n",
       "      <td>13</td>\n",
       "    </tr>\n",
       "    <tr>\n",
       "      <th>3</th>\n",
       "      <td>They went up to the dark mass job had pointed ...</td>\n",
       "      <td>[0.0, 0.0, 0.0, 0.0, 1.0]</td>\n",
       "      <td>0013/0013_000354.wav</td>\n",
       "      <td>13</td>\n",
       "    </tr>\n",
       "    <tr>\n",
       "      <th>4</th>\n",
       "      <td>Clear than clear water!</td>\n",
       "      <td>[0.0, 0.0, 0.0, 0.0, 1.0]</td>\n",
       "      <td>0013/0013_000355.wav</td>\n",
       "      <td>13</td>\n",
       "    </tr>\n",
       "  </tbody>\n",
       "</table>\n",
       "</div>"
      ],
      "text/plain": [
       "                                                text  \\\n",
       "0                         The nine the eggs, I keep.   \n",
       "1                 I did go, and made many prisoners.   \n",
       "2                       That I owe my thanks to you.   \n",
       "3  They went up to the dark mass job had pointed ...   \n",
       "4                            Clear than clear water!   \n",
       "\n",
       "                     emotion                 audio  speaker  \n",
       "0  [0.0, 0.0, 0.0, 0.0, 1.0]  0013/0013_000351.wav       13  \n",
       "1  [0.0, 0.0, 0.0, 0.0, 1.0]  0013/0013_000352.wav       13  \n",
       "2  [0.0, 0.0, 0.0, 0.0, 1.0]  0013/0013_000353.wav       13  \n",
       "3  [0.0, 0.0, 0.0, 0.0, 1.0]  0013/0013_000354.wav       13  \n",
       "4  [0.0, 0.0, 0.0, 0.0, 1.0]  0013/0013_000355.wav       13  "
      ]
     },
     "execution_count": 6,
     "metadata": {},
     "output_type": "execute_result"
    }
   ],
   "source": [
    "df.head()"
   ]
  },
  {
   "cell_type": "code",
   "execution_count": 9,
   "metadata": {
    "metadata": {}
   },
   "outputs": [],
   "source": [
    "df.to_csv(\"./data/ESD/test.csv\", index=False, header=False, sep=\"|\")"
   ]
  },
  {
   "cell_type": "code",
   "execution_count": 13,
   "metadata": {
    "metadata": {}
   },
   "outputs": [],
   "source": [
    "df = pd.read_csv(\"./data/ESD/test.csv\", sep=\"|\", names=[\"text\", \"emotion\", \"audio\", \"speaker\"])"
   ]
  },
  {
   "cell_type": "code",
   "execution_count": 14,
   "metadata": {
    "metadata": {}
   },
   "outputs": [
    {
     "name": "stdout",
     "output_type": "stream",
     "text": [
      "emotion\n",
      "[0.0, 0.0, 0.0, 0.0, 1.0]    40\n",
      "[0.0, 0.0, 1.0, 0.0, 0.0]    40\n",
      "[0.0, 0.0, 0.0, 1.0, 0.0]    40\n",
      "[0.0, 1.0, 0.0, 0.0, 0.0]    40\n",
      "Name: count, dtype: int64\n"
     ]
    }
   ],
   "source": [
    "emotions_count = df[\"emotion\"].value_counts()\n",
    "print(emotions_count)"
   ]
  },
  {
   "cell_type": "code",
   "execution_count": 15,
   "metadata": {
    "metadata": {}
   },
   "outputs": [
    {
     "name": "stdout",
     "output_type": "stream",
     "text": [
      "text\n",
      "The nine the eggs, I keep.                                   8\n",
      "I did go, and made many prisoners.                           8\n",
      "At the end of four.                                          8\n",
      "Then sadly it is much farther.                               8\n",
      "Why has this egg not broken?                                 8\n",
      "Mister share man, I move for a division.                     8\n",
      "Poor Tom now is dead!                                        8\n",
      "Annie please please don't hurt me!                           8\n",
      "I have bunburyed all over goat on two separate occasions.    8\n",
      "Her shoes were like fishes.                                  8\n",
      "Chapter ten a warm welcome.                                  8\n",
      "A nauseous draught.                                          8\n",
      "On the twenty second of last march.                          8\n",
      "That was his chief thought.                                  8\n",
      "I'm as bad as I can be.                                      8\n",
      "Andy what's the gyre and to gimble.                          8\n",
      "Clear than clear water!                                      8\n",
      "They went up to the dark mass job had pointed out.           8\n",
      "That I owe my thanks to you.                                 8\n",
      "At the roots-of a bush of a grass.                           8\n",
      "Name: count, dtype: int64\n"
     ]
    }
   ],
   "source": [
    "text_count = df[\"text\"].value_counts()\n",
    "print(text_count)"
   ]
  }
 ],
 "metadata": {
  "kernelspec": {
   "display_name": "emo-gan",
   "language": "python",
   "name": "python3"
  },
  "language_info": {
   "codemirror_mode": {
    "name": "ipython",
    "version": 3
   },
   "file_extension": ".py",
   "mimetype": "text/x-python",
   "name": "python",
   "nbconvert_exporter": "python",
   "pygments_lexer": "ipython3",
   "version": "3.11.7"
  }
 },
 "nbformat": 4,
 "nbformat_minor": 2
}
